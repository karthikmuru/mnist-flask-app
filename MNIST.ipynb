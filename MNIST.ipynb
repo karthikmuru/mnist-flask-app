{
  "nbformat": 4,
  "nbformat_minor": 0,
  "metadata": {
    "kernelspec": {
      "display_name": "Python 3",
      "language": "python",
      "name": "python3"
    },
    "language_info": {
      "codemirror_mode": {
        "name": "ipython",
        "version": 3
      },
      "file_extension": ".py",
      "mimetype": "text/x-python",
      "name": "python",
      "nbconvert_exporter": "python",
      "pygments_lexer": "ipython3",
      "version": "3.7.3"
    },
    "colab": {
      "name": "Copy of MNIST.ipynb",
      "provenance": [],
      "collapsed_sections": []
    },
    "accelerator": "GPU"
  },
  "cells": [
    {
      "cell_type": "code",
      "metadata": {
        "id": "5bbH90U8-0mz",
        "colab_type": "code",
        "colab": {
          "base_uri": "https://localhost:8080/",
          "height": 72
        },
        "outputId": "2cb0caed-7d2f-45ce-e2dc-ce59c6c225d5"
      },
      "source": [
        "from tensorflow.keras.models import Sequential\n",
        "from tensorflow.keras.layers import Dense, Conv2D, Flatten, Dropout, MaxPooling2D\n",
        "from tensorflow.keras.preprocessing.image import ImageDataGenerator\n",
        "\n",
        "import numpy as np\n",
        "import matplotlib.pyplot as plt\n",
        "\n",
        "import tensorflow as tf\n",
        "\n",
        "\n",
        "import pandas as pd\n",
        "import matplotlib.image as mpimg\n",
        "import seaborn as sns\n",
        "%matplotlib inline\n",
        "\n",
        "np.random.seed(2)\n",
        "\n",
        "from sklearn.model_selection import train_test_split\n",
        "from sklearn.metrics import confusion_matrix\n",
        "import itertools\n",
        "\n",
        "from google.colab import files"
      ],
      "execution_count": 1,
      "outputs": [
        {
          "output_type": "stream",
          "text": [
            "/usr/local/lib/python3.6/dist-packages/statsmodels/tools/_testing.py:19: FutureWarning: pandas.util.testing is deprecated. Use the functions in the public API at pandas.testing instead.\n",
            "  import pandas.util.testing as tm\n"
          ],
          "name": "stderr"
        }
      ]
    },
    {
      "cell_type": "code",
      "metadata": {
        "id": "LhVdz-WI-0m4",
        "colab_type": "code",
        "colab": {}
      },
      "source": [
        "import datetime\n",
        "%load_ext tensorboard"
      ],
      "execution_count": 2,
      "outputs": []
    },
    {
      "cell_type": "code",
      "metadata": {
        "id": "bLgYV99-4D2b",
        "colab_type": "code",
        "colab": {}
      },
      "source": [
        "def plot_confusion_matrix(cm, classes,\n",
        "                          normalize=False,\n",
        "                          title='Confusion matrix',\n",
        "                          cmap=plt.cm.Blues):\n",
        "\n",
        "    plt.imshow(cm, interpolation='nearest', cmap=cmap)\n",
        "    plt.title(title)\n",
        "    plt.colorbar()\n",
        "    tick_marks = np.arange(len(classes))\n",
        "    plt.xticks(tick_marks, classes, rotation=45)\n",
        "    plt.yticks(tick_marks, classes)\n",
        "\n",
        "    if normalize:\n",
        "        cm = cm.astype('float') / cm.sum(axis=1)[:, np.newaxis]\n",
        "\n",
        "    thresh = cm.max() / 2.\n",
        "    for i, j in itertools.product(range(cm.shape[0]), range(cm.shape[1])):\n",
        "        plt.text(j, i, cm[i, j],\n",
        "                 horizontalalignment=\"center\",\n",
        "                 color=\"white\" if cm[i, j] > thresh else \"black\")\n",
        "\n",
        "    plt.tight_layout()\n",
        "    plt.ylabel('True label')\n",
        "    plt.xlabel('Predicted label')\n",
        "\n",
        "def make_predictions_and_save(model, file_name):\n",
        "    probability_model = tf.keras.Sequential([model, tf.keras.layers.Softmax()])\n",
        "    output = np.argmax(probability_model.predict(X_test), axis=1)\n",
        "    prediction_df = pd.DataFrame(list(range(1, len(X_test) + 1)))\n",
        "    prediction_df.columns = ['ImageId']\n",
        "    prediction_df['Label'] = pd.DataFrame(output)\n",
        "    prediction_df.to_csv('predictions/' + file_name + '.csv', index=False)"
      ],
      "execution_count": 3,
      "outputs": []
    },
    {
      "cell_type": "code",
      "metadata": {
        "id": "5mwy9dJf_s6Z",
        "colab_type": "code",
        "colab": {}
      },
      "source": [
        "# !mkdir -p ~/.kaggle\n",
        "\n",
        "# from google.colab import files\n",
        "# files.upload()"
      ],
      "execution_count": null,
      "outputs": []
    },
    {
      "cell_type": "code",
      "metadata": {
        "id": "RoYZbZyA05oB",
        "colab_type": "code",
        "colab": {}
      },
      "source": [
        "!mkdir predictions"
      ],
      "execution_count": 5,
      "outputs": []
    },
    {
      "cell_type": "code",
      "metadata": {
        "id": "eBDNwal-AWpW",
        "colab_type": "code",
        "colab": {}
      },
      "source": [
        "!cp kaggle.json ~/.kaggle/\n",
        "!chmod 600 ~/.kaggle/kaggle.json"
      ],
      "execution_count": 6,
      "outputs": []
    },
    {
      "cell_type": "code",
      "metadata": {
        "id": "0Jg0PLP8ll_w",
        "colab_type": "code",
        "colab": {
          "base_uri": "https://localhost:8080/",
          "height": 194
        },
        "outputId": "8ddc1036-45db-4602-9eff-7ad713fca012"
      },
      "source": [
        "!kaggle competitions download -c digit-recognizer"
      ],
      "execution_count": 7,
      "outputs": [
        {
          "output_type": "stream",
          "text": [
            "Warning: Looks like you're using an outdated API Version, please consider updating (server 1.5.6 / client 1.5.4)\n",
            "Downloading test.csv.zip to /content\n",
            " 82% 5.00M/6.09M [00:00<00:00, 13.9MB/s]\n",
            "100% 6.09M/6.09M [00:00<00:00, 15.4MB/s]\n",
            "Downloading train.csv.zip to /content\n",
            "  0% 0.00/9.16M [00:00<?, ?B/s]\n",
            "100% 9.16M/9.16M [00:00<00:00, 84.5MB/s]\n",
            "Downloading sample_submission.csv to /content\n",
            "  0% 0.00/235k [00:00<?, ?B/s]\n",
            "100% 235k/235k [00:00<00:00, 78.5MB/s]\n"
          ],
          "name": "stdout"
        }
      ]
    },
    {
      "cell_type": "code",
      "metadata": {
        "id": "5Mcjl-7C-0m8",
        "colab_type": "code",
        "colab": {}
      },
      "source": [
        "TRAIN_DATA_PATH = \"train.csv.zip\"\n",
        "TEST_DATA_PATH = \"test.csv.zip\""
      ],
      "execution_count": 8,
      "outputs": []
    },
    {
      "cell_type": "code",
      "metadata": {
        "id": "v6YNHiYA-0m_",
        "colab_type": "code",
        "colab": {}
      },
      "source": [
        "#Load Data\n",
        "train = pd.read_csv(TRAIN_DATA_PATH, compression='zip', header=0, sep=',', quotechar='\"')\n",
        "test = pd.read_csv(TEST_DATA_PATH, compression='zip', header=0, sep=',', quotechar='\"')"
      ],
      "execution_count": 9,
      "outputs": []
    },
    {
      "cell_type": "code",
      "metadata": {
        "id": "OH0UCT6V-0nC",
        "colab_type": "code",
        "colab": {}
      },
      "source": [
        "Y_train = train[\"label\"]\n",
        "X_train = train.drop(labels=[\"label\"], axis=1)\n",
        "del(train)\n",
        "X_test = test"
      ],
      "execution_count": 10,
      "outputs": []
    },
    {
      "cell_type": "markdown",
      "metadata": {
        "id": "_Dy3ytL3-0na",
        "colab_type": "text"
      },
      "source": [
        "### Normalization"
      ]
    },
    {
      "cell_type": "code",
      "metadata": {
        "id": "lkRUtbbU-0nb",
        "colab_type": "code",
        "colab": {}
      },
      "source": [
        "X_train = X_train / 255.0"
      ],
      "execution_count": 11,
      "outputs": []
    },
    {
      "cell_type": "code",
      "metadata": {
        "id": "0yoALaiT-0nd",
        "colab_type": "code",
        "colab": {}
      },
      "source": [
        "X_test = X_test / 255.0"
      ],
      "execution_count": 12,
      "outputs": []
    },
    {
      "cell_type": "code",
      "metadata": {
        "id": "isogEhIU-0ni",
        "colab_type": "code",
        "colab": {}
      },
      "source": [
        "Y_train = tf.keras.utils.to_categorical(Y_train, num_classes=10)"
      ],
      "execution_count": 13,
      "outputs": []
    },
    {
      "cell_type": "markdown",
      "metadata": {
        "id": "uh131mRn-0nl",
        "colab_type": "text"
      },
      "source": [
        "### Reshape Pixels"
      ]
    },
    {
      "cell_type": "code",
      "metadata": {
        "id": "aZbnc2di-0nl",
        "colab_type": "code",
        "colab": {}
      },
      "source": [
        "X_train = X_train.values.reshape(-1, 28, 28, 1)\n",
        "X_test = X_test.values.reshape(-1, 28, 28, 1)"
      ],
      "execution_count": 14,
      "outputs": []
    },
    {
      "cell_type": "markdown",
      "metadata": {
        "id": "V3L8HKG6-0no",
        "colab_type": "text"
      },
      "source": [
        "### Split training and validation sets"
      ]
    },
    {
      "cell_type": "code",
      "metadata": {
        "id": "aXRxgwFC-0np",
        "colab_type": "code",
        "colab": {}
      },
      "source": [
        "X_train, X_val, Y_train, Y_val = train_test_split(X_train, Y_train, test_size=0.1, random_state=2)"
      ],
      "execution_count": 15,
      "outputs": []
    },
    {
      "cell_type": "code",
      "metadata": {
        "id": "f0d-Hwka-0nu",
        "colab_type": "code",
        "colab": {
          "base_uri": "https://localhost:8080/",
          "height": 282
        },
        "outputId": "432d0af8-dbed-4601-a84d-d12dc9d63bcb"
      },
      "source": [
        "plt.imshow(X_train[1000][:,:,0])"
      ],
      "execution_count": 16,
      "outputs": [
        {
          "output_type": "execute_result",
          "data": {
            "text/plain": [
              "<matplotlib.image.AxesImage at 0x7fb3003ce518>"
            ]
          },
          "metadata": {
            "tags": []
          },
          "execution_count": 16
        },
        {
          "output_type": "display_data",
          "data": {
            "image/png": "[encoded data removed]",
            "text/plain": [
              "<Figure size 432x288 with 1 Axes>"
            ]
          },
          "metadata": {
            "tags": [],
            "needs_background": "light"
          }
        }
      ]
    },
    {
      "cell_type": "markdown",
      "metadata": {
        "id": "-WoPVoDBYKbt",
        "colab_type": "text"
      },
      "source": [
        "# MODEL"
      ]
    },
    {
      "cell_type": "markdown",
      "metadata": {
        "id": "afuVUxbkWAOC",
        "colab_type": "text"
      },
      "source": [
        "### Experimenting with feature maps"
      ]
    },
    {
      "cell_type": "code",
      "metadata": {
        "id": "-LtAYy1tgaim",
        "colab_type": "code",
        "colab": {
          "base_uri": "https://localhost:8080/",
          "height": 123
        },
        "outputId": "4c73b38e-f0c7-43e3-ada4-560a60645a8d"
      },
      "source": [
        "L1_dims = [8, 16, 24, 32, 48, 64]\n",
        "model = [0]*6\n",
        "# Define and compile all models\n",
        "for i in range(6):\n",
        "  model[i] = Sequential()\n",
        "  model[i].add(Conv2D(L1_dims[i], 5, padding='same', activation='relu', input_shape=(28, 28, 1)))\n",
        "  model[i].add(MaxPooling2D())\n",
        "  model[i].add(Conv2D(L1_dims[i]*2, 5, padding='same', activation='relu', input_shape=(28, 28, 1)))\n",
        "  model[i].add(MaxPooling2D())\n",
        "  model[i].add(Flatten())\n",
        "  model[i].add(Dense(256, activation='relu'))\n",
        "  model[i].add(Dense(10, activation='softmax'))\n",
        "  model[i].compile(optimizer='adam', loss='categorical_crossentropy', metrics=['accuracy'])\n",
        "\n",
        "\n",
        "# Train\n",
        "for i in range(6):\n",
        "  model[i].fit(X_train, Y_train, validation_data=(X_val, Y_val), epochs=20, verbose=0)\n",
        "  train_accuracy = round(model[i].evaluate(X_train, Y_train, verbose=0)[1], 4)\n",
        "  val_accuracy = round(model[i].evaluate(X_val, Y_val, verbose=0)[1], 4)\n",
        "  print(f\"CNN {L1_dims[i]}: Train Accuracy: {train_accuracy}, Val Accuracy: {val_accuracy}\")\n"
      ],
      "execution_count": null,
      "outputs": [
        {
          "output_type": "stream",
          "text": [
            "CNN 8: Train Accuracy: 0.9987830519676208, Val Accuracy: 0.9869047403335571\n",
            "CNN 16: Train Accuracy: 0.9988889098167419, Val Accuracy: 0.9897618889808655\n",
            "CNN 24: Train Accuracy: 0.9926190376281738, Val Accuracy: 0.9821428656578064\n",
            "CNN 32: Train Accuracy: 0.99957674741745, Val Accuracy: 0.9919047355651855\n",
            "CNN 48: Train Accuracy: 0.9992856979370117, Val Accuracy: 0.9909523725509644\n",
            "CNN 64: Train Accuracy: 0.9992063641548157, Val Accuracy: 0.9926190376281738\n"
          ],
          "name": "stdout"
        }
      ]
    },
    {
      "cell_type": "code",
      "metadata": {
        "id": "bj5kfcoRyx_9",
        "colab_type": "code",
        "colab": {}
      },
      "source": [
        "# Considering CNN 32 better\n",
        "make_predictions_and_save(model[3], 'model_3_3')\n",
        "files.download('predictions/model_3_3.csv')"
      ],
      "execution_count": null,
      "outputs": []
    },
    {
      "cell_type": "markdown",
      "metadata": {
        "id": "RIYF34O6WQLp",
        "colab_type": "text"
      },
      "source": [
        "### Experimenting with size of dense layers"
      ]
    },
    {
      "cell_type": "code",
      "metadata": {
        "id": "bjIsSWlFtokC",
        "colab_type": "code",
        "colab": {
          "base_uri": "https://localhost:8080/",
          "height": 141
        },
        "outputId": "a4cb4b61-940d-48cc-fd4e-a52ca7887e76"
      },
      "source": [
        "model = [0]*7\n",
        "# Define and compile all models\n",
        "for i in range(7):\n",
        "  model[i] = Sequential()\n",
        "  model[i].add(Conv2D(32, 5, padding='same', activation='relu', input_shape=(28, 28, 1)))\n",
        "  model[i].add(MaxPooling2D())\n",
        "  model[i].add(Conv2D(64, 5, padding='same', activation='relu', input_shape=(28, 28, 1)))\n",
        "  model[i].add(MaxPooling2D())\n",
        "  model[i].add(Flatten())\n",
        "  model[i].add(Dense(2**(i+5), activation='relu'))\n",
        "  model[i].add(Dense(10, activation='softmax'))\n",
        "  model[i].compile(optimizer='adam', loss='categorical_crossentropy', metrics=['accuracy'])\n",
        "\n",
        "\n",
        "# Train\n",
        "for i in range(7):\n",
        "  model[i].fit(X_train, Y_train, validation_data=(X_val, Y_val), epochs=30, verbose=0)\n",
        "  train_accuracy = round(model[i].evaluate(X_train, Y_train, verbose=0)[1], 4)\n",
        "  val_accuracy = round(model[i].evaluate(X_val, Y_val, verbose=0)[1], 4)\n",
        "  print(f\"D {2**(i+5)} : Train Accuracy: {train_accuracy}, Val Accuracy: {val_accuracy}\")\n"
      ],
      "execution_count": 17,
      "outputs": [
        {
          "output_type": "stream",
          "text": [
            "D 32 : Train Accuracy: 0.9992, Val Accuracy: 0.9914\n",
            "D 64 : Train Accuracy: 0.9977, Val Accuracy: 0.9881\n",
            "D 128 : Train Accuracy: 0.9983, Val Accuracy: 0.9881\n",
            "D 256 : Train Accuracy: 0.999, Val Accuracy: 0.9905\n",
            "D 512 : Train Accuracy: 0.9997, Val Accuracy: 0.9917\n",
            "D 1024 : Train Accuracy: 0.9998, Val Accuracy: 0.9917\n",
            "D 2048 : Train Accuracy: 0.9997, Val Accuracy: 0.9902\n"
          ],
          "name": "stdout"
        }
      ]
    },
    {
      "cell_type": "code",
      "metadata": {
        "id": "qGuB6avl1w5W",
        "colab_type": "code",
        "colab": {}
      },
      "source": [
        "# Considering 128 dense units better\n",
        "make_predictions_and_save(model[2], 'model_4_5')\n",
        "files.download('predictions/model_4_5.csv')"
      ],
      "execution_count": null,
      "outputs": []
    },
    {
      "cell_type": "markdown",
      "metadata": {
        "id": "UAb7914tZhDl",
        "colab_type": "text"
      },
      "source": [
        "### Experimenting with dropout"
      ]
    },
    {
      "cell_type": "code",
      "metadata": {
        "id": "cfmXGZmwZmsE",
        "colab_type": "code",
        "colab": {
          "base_uri": "https://localhost:8080/",
          "height": 158
        },
        "outputId": "5589f716-ab09-42f6-9aef-7e553bdc9ed0"
      },
      "source": [
        "model = [0]*8\n",
        "# Define and compile all models\n",
        "for i in range(8):\n",
        "  model[i] = Sequential()\n",
        "  model[i].add(Conv2D(32, 5, padding='same', activation='relu', input_shape=(28, 28, 1)))\n",
        "  model[i].add(MaxPooling2D())\n",
        "  model[i].add(Dropout(i*0.1))\n",
        "  model[i].add(Conv2D(64, 5, padding='same', activation='relu', input_shape=(28, 28, 1)))\n",
        "  model[i].add(MaxPooling2D())\n",
        "  model[i].add(Dropout(i*0.1))\n",
        "  model[i].add(Flatten())\n",
        "  model[i].add(Dense(256, activation='relu'))\n",
        "  model[i].add(Dropout(i*0.1))\n",
        "  model[i].add(Dense(10, activation='softmax'))\n",
        "  model[i].compile(optimizer='adam', loss='categorical_crossentropy', metrics=['accuracy'])\n",
        "\n",
        "\n",
        "# Train\n",
        "for i in range(8):\n",
        "  model[i].fit(X_train, Y_train, validation_data=(X_val, Y_val), epochs=30, verbose=0)\n",
        "  train_accuracy = round(model[i].evaluate(X_train, Y_train, verbose=0)[1], 4)\n",
        "  val_accuracy = round(model[i].evaluate(X_val, Y_val, verbose=0)[1], 4)\n",
        "  print(f\"Droupout {i * 0.1} : Train Accuracy: {train_accuracy}, Val Accuracy: {val_accuracy}\")\n"
      ],
      "execution_count": null,
      "outputs": [
        {
          "output_type": "stream",
          "text": [
            "Droupout 0.0 : Train Accuracy: 0.999, Val Accuracy: 0.989\n",
            "Droupout 0.1 : Train Accuracy: 0.9992, Val Accuracy: 0.9921\n",
            "Droupout 0.2 : Train Accuracy: 0.9985, Val Accuracy: 0.989\n",
            "Droupout 0.30000000000000004 : Train Accuracy: 0.9992, Val Accuracy: 0.991\n",
            "Droupout 0.4 : Train Accuracy: 0.9994, Val Accuracy: 0.9933\n",
            "Droupout 0.5 : Train Accuracy: 0.9983, Val Accuracy: 0.9924\n",
            "Droupout 0.6000000000000001 : Train Accuracy: 0.9964, Val Accuracy: 0.9924\n",
            "Droupout 0.7000000000000001 : Train Accuracy: 0.9917, Val Accuracy: 0.9874\n"
          ],
          "name": "stdout"
        }
      ]
    },
    {
      "cell_type": "code",
      "metadata": {
        "id": "jIgIhaxkhigM",
        "colab_type": "code",
        "colab": {}
      },
      "source": [
        "# Going with 0.4 dropout"
      ],
      "execution_count": null,
      "outputs": []
    },
    {
      "cell_type": "markdown",
      "metadata": {
        "id": "_nNS2vHuXNe3",
        "colab_type": "text"
      },
      "source": [
        "### Adding data augmentation, optimizer and learning rate annealer"
      ]
    },
    {
      "cell_type": "code",
      "metadata": {
        "id": "OdOoRJ4Nsjat",
        "colab_type": "code",
        "colab": {}
      },
      "source": [
        "optimizer = tf.keras.optimizers.RMSprop(lr=0.001, rho=0.9, epsilon=1e-08, decay=0.0)\n",
        "\n",
        "datagen = ImageDataGenerator(\n",
        "        featurewise_center=False,\n",
        "        samplewise_center=False,\n",
        "        featurewise_std_normalization=False,\n",
        "        samplewise_std_normalization=False,\n",
        "        zca_whitening=False,\n",
        "        rotation_range=10,\n",
        "        zoom_range = 0.1,\n",
        "        width_shift_range=0.1,\n",
        "        height_shift_range=0.1,\n",
        "        horizontal_flip=False,\n",
        "        vertical_flip=False)\n",
        "\n",
        "\n",
        "datagen.fit(X_train)\n",
        "\n",
        "learning_rate_reduction = tf.keras.callbacks.ReduceLROnPlateau(monitor='val_accuracy', \n",
        "                                            patience=3, \n",
        "                                            verbose=1, \n",
        "                                            factor=0.5, \n",
        "                                            min_lr=0.00001)\n",
        "\n"
      ],
      "execution_count": null,
      "outputs": []
    },
    {
      "cell_type": "code",
      "metadata": {
        "id": "FmlDWTHm0WIY",
        "colab_type": "code",
        "colab": {}
      },
      "source": [
        "# [32C5-P2-0.4d]-[64C5-P2-0.4d]-F-256D-0.4d-10D\n",
        "\n",
        "model = Sequential()\n",
        "model.add(Conv2D(32, 5, padding='same', activation='relu', input_shape=(28, 28, 1)))\n",
        "model.add(MaxPooling2D())\n",
        "model.add(Dropout(0.4))\n",
        "model.add(Conv2D(64, 5, padding='same', activation='relu', input_shape=(28, 28, 1)))\n",
        "model.add(MaxPooling2D())\n",
        "model.add(Dropout(0.4))\n",
        "model.add(Flatten())\n",
        "model.add(Dense(256, activation='relu'))\n",
        "model.add(Dropout(0.4))\n",
        "model.add(Dense(10, activation='softmax'))\n",
        "model.compile(optimizer=optimizer, loss='categorical_crossentropy', metrics=['accuracy'])"
      ],
      "execution_count": null,
      "outputs": []
    },
    {
      "cell_type": "code",
      "metadata": {
        "id": "MBTdv2RI2tQH",
        "colab_type": "code",
        "colab": {
          "base_uri": "https://localhost:8080/",
          "height": 763
        },
        "outputId": "3c067402-1904-4360-9095-89e86cf7ae7e"
      },
      "source": [
        "Model = model.fit_generator(datagen.flow(X_train, Y_train, batch_size=100),\n",
        "                            validation_data=(X_val, Y_val, ), epochs=20, \n",
        "                            steps_per_epoch=X_train.shape[0]/100,\n",
        "                            verbose=1, callbacks=[learning_rate_reduction])"
      ],
      "execution_count": null,
      "outputs": [
        {
          "output_type": "stream",
          "text": [
            "Epoch 1/20\n",
            "378/378 [==============================] - 13s 34ms/step - loss: 0.4728 - accuracy: 0.8458 - val_loss: 0.0766 - val_accuracy: 0.9776 - lr: 0.0010\n",
            "Epoch 2/20\n",
            "378/378 [==============================] - 13s 34ms/step - loss: 0.1603 - accuracy: 0.9511 - val_loss: 0.0570 - val_accuracy: 0.9821 - lr: 0.0010\n",
            "Epoch 3/20\n",
            "378/378 [==============================] - 13s 35ms/step - loss: 0.1233 - accuracy: 0.9624 - val_loss: 0.0443 - val_accuracy: 0.9874 - lr: 0.0010\n",
            "Epoch 4/20\n",
            "378/378 [==============================] - 13s 33ms/step - loss: 0.1051 - accuracy: 0.9687 - val_loss: 0.0360 - val_accuracy: 0.9902 - lr: 0.0010\n",
            "Epoch 5/20\n",
            "378/378 [==============================] - 13s 34ms/step - loss: 0.0940 - accuracy: 0.9714 - val_loss: 0.0345 - val_accuracy: 0.9902 - lr: 0.0010\n",
            "Epoch 6/20\n",
            "378/378 [==============================] - 13s 34ms/step - loss: 0.0872 - accuracy: 0.9734 - val_loss: 0.0348 - val_accuracy: 0.9900 - lr: 0.0010\n",
            "Epoch 7/20\n",
            "378/378 [==============================] - 13s 34ms/step - loss: 0.0862 - accuracy: 0.9741 - val_loss: 0.0305 - val_accuracy: 0.9914 - lr: 0.0010\n",
            "Epoch 8/20\n",
            "378/378 [==============================] - 13s 35ms/step - loss: 0.0760 - accuracy: 0.9767 - val_loss: 0.0316 - val_accuracy: 0.9907 - lr: 0.0010\n",
            "Epoch 9/20\n",
            "378/378 [==============================] - 13s 35ms/step - loss: 0.0747 - accuracy: 0.9772 - val_loss: 0.0282 - val_accuracy: 0.9919 - lr: 0.0010\n",
            "Epoch 10/20\n",
            "378/378 [==============================] - 13s 35ms/step - loss: 0.0764 - accuracy: 0.9772 - val_loss: 0.0265 - val_accuracy: 0.9921 - lr: 0.0010\n",
            "Epoch 11/20\n",
            "378/378 [==============================] - 13s 35ms/step - loss: 0.0786 - accuracy: 0.9774 - val_loss: 0.0279 - val_accuracy: 0.9921 - lr: 0.0010\n",
            "Epoch 12/20\n",
            "378/378 [==============================] - 13s 36ms/step - loss: 0.0779 - accuracy: 0.9785 - val_loss: 0.0255 - val_accuracy: 0.9926 - lr: 0.0010\n",
            "Epoch 13/20\n",
            "378/378 [==============================] - 13s 34ms/step - loss: 0.0747 - accuracy: 0.9783 - val_loss: 0.0305 - val_accuracy: 0.9912 - lr: 0.0010\n",
            "Epoch 14/20\n",
            "378/378 [==============================] - 13s 35ms/step - loss: 0.0746 - accuracy: 0.9787 - val_loss: 0.0285 - val_accuracy: 0.9919 - lr: 0.0010\n",
            "Epoch 15/20\n",
            "377/378 [============================>.] - ETA: 0s - loss: 0.0738 - accuracy: 0.9787\n",
            "Epoch 00015: ReduceLROnPlateau reducing learning rate to 0.0005000000237487257.\n",
            "378/378 [==============================] - 13s 35ms/step - loss: 0.0738 - accuracy: 0.9787 - val_loss: 0.0288 - val_accuracy: 0.9926 - lr: 0.0010\n",
            "Epoch 16/20\n",
            "378/378 [==============================] - 13s 35ms/step - loss: 0.0633 - accuracy: 0.9820 - val_loss: 0.0279 - val_accuracy: 0.9921 - lr: 5.0000e-04\n",
            "Epoch 17/20\n",
            "378/378 [==============================] - 13s 35ms/step - loss: 0.0658 - accuracy: 0.9808 - val_loss: 0.0269 - val_accuracy: 0.9929 - lr: 5.0000e-04\n",
            "Epoch 18/20\n",
            "378/378 [==============================] - 13s 35ms/step - loss: 0.0633 - accuracy: 0.9818 - val_loss: 0.0237 - val_accuracy: 0.9936 - lr: 5.0000e-04\n",
            "Epoch 19/20\n",
            "378/378 [==============================] - 13s 34ms/step - loss: 0.0627 - accuracy: 0.9812 - val_loss: 0.0240 - val_accuracy: 0.9933 - lr: 5.0000e-04\n",
            "Epoch 20/20\n",
            "378/378 [==============================] - 13s 35ms/step - loss: 0.0617 - accuracy: 0.9823 - val_loss: 0.0253 - val_accuracy: 0.9936 - lr: 5.0000e-04\n"
          ],
          "name": "stdout"
        }
      ]
    },
    {
      "cell_type": "code",
      "metadata": {
        "id": "mCSuFHkD4fGW",
        "colab_type": "code",
        "colab": {}
      },
      "source": [
        " make_predictions_and_save(model, 'model_5_2')\n",
        "files.download('predictions/model_5_2.csv')"
      ],
      "execution_count": null,
      "outputs": []
    },
    {
      "cell_type": "markdown",
      "metadata": {
        "id": "dwdaOLS_zHiH",
        "colab_type": "text"
      },
      "source": [
        "5x5 CNN -> [3x3]*2, \n",
        "maxpool subsampling -> CNN with stride 2, which is learnable, \n",
        "Batch Normalization"
      ]
    },
    {
      "cell_type": "code",
      "metadata": {
        "id": "u09cGNwqzb_b",
        "colab_type": "code",
        "colab": {}
      },
      "source": [
        "# Latest Model\n",
        "# [32C3-BN]*2-[32C5S2-BN]-0.4d-[64C3-BN]*2-[64C5S2-BN]-0.4d-F-256D-10D 20E\n",
        "\n",
        "model = Sequential()\n",
        "model.add(Conv2D(32, 3, padding='same', activation='relu', input_shape=(28, 28, 1)))\n",
        "model.add(tf.keras.layers.BatchNormalization())\n",
        "model.add(Conv2D(32, 3, padding='same', activation='relu', input_shape=(28, 28, 1)))\n",
        "model.add(tf.keras.layers.BatchNormalization())\n",
        "model.add(Conv2D(32, 5, padding='same',strides=2, activation='relu', input_shape=(28, 28, 1)))\n",
        "model.add(tf.keras.layers.BatchNormalization())\n",
        "model.add(Dropout(0.4))\n",
        "\n",
        "model.add(Conv2D(64, 3, padding='same', activation='relu', input_shape=(28, 28, 1)))\n",
        "model.add(tf.keras.layers.BatchNormalization())\n",
        "model.add(Conv2D(64, 3, padding='same', activation='relu', input_shape=(28, 28, 1)))\n",
        "model.add(tf.keras.layers.BatchNormalization())\n",
        "model.add(Conv2D(64, 5, padding='same',strides=2, activation='relu', input_shape=(28, 28, 1)))\n",
        "model.add(tf.keras.layers.BatchNormalization())\n",
        "model.add(Dropout(0.4))\n",
        "\n",
        "model.add(Flatten())\n",
        "model.add(Dense(256, activation='relu'))\n",
        "model.add(Dropout(0.4))\n",
        "model.add(Dense(10, activation='softmax'))\n",
        "model.compile(optimizer=optimizer, loss='categorical_crossentropy', metrics=['accuracy'])"
      ],
      "execution_count": null,
      "outputs": []
    },
    {
      "cell_type": "code",
      "metadata": {
        "id": "efudJQx407Hx",
        "colab_type": "code",
        "colab": {
          "base_uri": "https://localhost:8080/",
          "height": 872
        },
        "outputId": "bc133a69-281c-4ed6-e5f9-92e4f2f06d39"
      },
      "source": [
        "Model = model.fit_generator(datagen.flow(X_train, Y_train, batch_size=100),\n",
        "                            validation_data=(X_val, Y_val, ), epochs=20, \n",
        "                            steps_per_epoch=X_train.shape[0]/100,\n",
        "                            verbose=1, callbacks=[learning_rate_reduction])"
      ],
      "execution_count": null,
      "outputs": [
        {
          "output_type": "stream",
          "text": [
            "WARNING:tensorflow:From <ipython-input-29-040a6dc5e4a1>:4: Model.fit_generator (from tensorflow.python.keras.engine.training) is deprecated and will be removed in a future version.\n",
            "Instructions for updating:\n",
            "Please use Model.fit, which supports generators.\n",
            "Epoch 1/20\n",
            "378/378 [==============================] - 12s 31ms/step - loss: 0.4417 - accuracy: 0.8684 - val_loss: 20.1690 - val_accuracy: 0.1757 - lr: 0.0010\n",
            "Epoch 2/20\n",
            "378/378 [==============================] - 12s 31ms/step - loss: 0.1642 - accuracy: 0.9559 - val_loss: 0.0968 - val_accuracy: 0.9829 - lr: 0.0010\n",
            "Epoch 3/20\n",
            "378/378 [==============================] - 11s 30ms/step - loss: 0.1313 - accuracy: 0.9667 - val_loss: 0.0926 - val_accuracy: 0.9805 - lr: 0.0010\n",
            "Epoch 4/20\n",
            "378/378 [==============================] - 12s 31ms/step - loss: 0.1168 - accuracy: 0.9703 - val_loss: 0.0557 - val_accuracy: 0.9883 - lr: 0.0010\n",
            "Epoch 5/20\n",
            "378/378 [==============================] - 11s 30ms/step - loss: 0.1057 - accuracy: 0.9747 - val_loss: 0.0512 - val_accuracy: 0.9848 - lr: 0.0010\n",
            "Epoch 6/20\n",
            "378/378 [==============================] - 12s 31ms/step - loss: 0.0965 - accuracy: 0.9768 - val_loss: 0.0564 - val_accuracy: 0.9883 - lr: 0.0010\n",
            "Epoch 7/20\n",
            "378/378 [==============================] - 12s 31ms/step - loss: 0.0909 - accuracy: 0.9783 - val_loss: 0.0621 - val_accuracy: 0.9888 - lr: 0.0010\n",
            "Epoch 8/20\n",
            "378/378 [==============================] - 12s 31ms/step - loss: 0.0890 - accuracy: 0.9784 - val_loss: 0.0373 - val_accuracy: 0.9902 - lr: 0.0010\n",
            "Epoch 9/20\n",
            "378/378 [==============================] - 12s 31ms/step - loss: 0.0795 - accuracy: 0.9805 - val_loss: 0.0401 - val_accuracy: 0.9914 - lr: 0.0010\n",
            "Epoch 10/20\n",
            "378/378 [==============================] - 12s 31ms/step - loss: 0.0853 - accuracy: 0.9794 - val_loss: 0.0625 - val_accuracy: 0.9879 - lr: 0.0010\n",
            "Epoch 11/20\n",
            "378/378 [==============================] - 12s 31ms/step - loss: 0.0789 - accuracy: 0.9821 - val_loss: 0.0591 - val_accuracy: 0.9895 - lr: 0.0010\n",
            "Epoch 12/20\n",
            "377/378 [============================>.] - ETA: 0s - loss: 0.0782 - accuracy: 0.9820\n",
            "Epoch 00012: ReduceLROnPlateau reducing learning rate to 0.0005000000237487257.\n",
            "378/378 [==============================] - 11s 30ms/step - loss: 0.0781 - accuracy: 0.9820 - val_loss: 0.0852 - val_accuracy: 0.9850 - lr: 0.0010\n",
            "Epoch 13/20\n",
            "378/378 [==============================] - 12s 31ms/step - loss: 0.0541 - accuracy: 0.9872 - val_loss: 0.0246 - val_accuracy: 0.9943 - lr: 5.0000e-04\n",
            "Epoch 14/20\n",
            "378/378 [==============================] - 12s 31ms/step - loss: 0.0529 - accuracy: 0.9871 - val_loss: 0.0513 - val_accuracy: 0.9929 - lr: 5.0000e-04\n",
            "Epoch 15/20\n",
            "378/378 [==============================] - 12s 30ms/step - loss: 0.0528 - accuracy: 0.9872 - val_loss: 0.0247 - val_accuracy: 0.9936 - lr: 5.0000e-04\n",
            "Epoch 16/20\n",
            "377/378 [============================>.] - ETA: 0s - loss: 0.0509 - accuracy: 0.9879\n",
            "Epoch 00016: ReduceLROnPlateau reducing learning rate to 0.0002500000118743628.\n",
            "378/378 [==============================] - 12s 31ms/step - loss: 0.0509 - accuracy: 0.9879 - val_loss: 0.0465 - val_accuracy: 0.9917 - lr: 5.0000e-04\n",
            "Epoch 17/20\n",
            "378/378 [==============================] - 11s 30ms/step - loss: 0.0400 - accuracy: 0.9895 - val_loss: 0.0297 - val_accuracy: 0.9938 - lr: 2.5000e-04\n",
            "Epoch 18/20\n",
            "378/378 [==============================] - 12s 32ms/step - loss: 0.0377 - accuracy: 0.9907 - val_loss: 0.0260 - val_accuracy: 0.9952 - lr: 2.5000e-04\n",
            "Epoch 19/20\n",
            "378/378 [==============================] - 12s 31ms/step - loss: 0.0379 - accuracy: 0.9902 - val_loss: 0.0303 - val_accuracy: 0.9950 - lr: 2.5000e-04\n",
            "Epoch 20/20\n",
            "378/378 [==============================] - 12s 31ms/step - loss: 0.0396 - accuracy: 0.9902 - val_loss: 0.0290 - val_accuracy: 0.9948 - lr: 2.5000e-04\n"
          ],
          "name": "stdout"
        }
      ]
    },
    {
      "cell_type": "code",
      "metadata": {
        "id": "oQGx9rjn1DYm",
        "colab_type": "code",
        "colab": {}
      },
      "source": [
        " make_predictions_and_save(model, 'model_6_1')\n",
        "files.download('predictions/model_6_1.csv')"
      ],
      "execution_count": null,
      "outputs": []
    },
    {
      "cell_type": "markdown",
      "metadata": {
        "id": "WyPrroQXLzyx",
        "colab_type": "text"
      },
      "source": [
        "## Download the weights"
      ]
    },
    {
      "cell_type": "code",
      "metadata": {
        "id": "1gJp9LVPL14d",
        "colab_type": "code",
        "colab": {}
      },
      "source": [
        "!pip install -U -q PyDrive\n",
        "from pydrive.auth import GoogleAuth\n",
        "from pydrive.drive import GoogleDrive\n",
        "from google.colab import auth\n",
        "from oauth2client.client import GoogleCredentials\n",
        "\n",
        "auth.authenticate_user()\n",
        "gauth = GoogleAuth()\n",
        "gauth.credentials = GoogleCredentials.get_application_default()\n",
        "drive = GoogleDrive(gauth)\n",
        "\n",
        "# create on Colab directory\n",
        "model.save_weights('model_weights.h5')    \n",
        "model_file = drive.CreateFile({'title' : 'model_weights.h5'})\n",
        "model_file.SetContentFile('model_weights.h5')\n",
        "model_file.Upload()\n",
        "\n",
        "# download to google drive\n",
        "drive.CreateFile({'id': model_file.get('id')})"
      ],
      "execution_count": null,
      "outputs": []
    }
  ]
}